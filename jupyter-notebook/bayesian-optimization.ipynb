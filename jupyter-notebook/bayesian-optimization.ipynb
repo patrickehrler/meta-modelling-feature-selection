{
 "cells": [
  {
   "cell_type": "markdown",
   "metadata": {},
   "source": [
    "# Bayesian Optimization\n",
    "Idea: Use bayesian optimization for (wrapper) feature selection."
   ]
  },
  {
   "cell_type": "code",
   "execution_count": 1,
   "metadata": {},
   "outputs": [],
   "source": [
    "from sklearn import datasets\n",
    "import pandas as pd\n",
    "from mlxtend.feature_selection import SequentialFeatureSelector as SFS\n",
    "from sklearn.linear_model import LinearRegression\n",
    "from sklearn.feature_selection import RFE\n",
    "from bayes_opt import BayesianOptimization\n",
    "from itertools import chain, combinations\n",
    "from itertools import compress\n",
    "from skopt import gp_minimize\n",
    "from skopt.space import Integer\n",
    "import matplotlib.pyplot as plt\n",
    "import numpy as np\n",
    "import seaborn as sns"
   ]
  },
  {
   "cell_type": "markdown",
   "metadata": {},
   "source": [
    "## 0. Hyperparameters"
   ]
  },
  {
   "cell_type": "markdown",
   "metadata": {},
   "source": [
    "## 1. Choose dataset"
   ]
  },
  {
   "cell_type": "code",
   "execution_count": 2,
   "metadata": {},
   "outputs": [],
   "source": [
    "# regression dataset\n",
    "dataset = datasets.load_boston()"
   ]
  },
  {
   "cell_type": "code",
   "execution_count": 3,
   "metadata": {},
   "outputs": [],
   "source": [
    "# classification dataset\n",
    "dataset = datasets.load_wine()"
   ]
  },
  {
   "cell_type": "code",
   "execution_count": 4,
   "metadata": {},
   "outputs": [],
   "source": [
    "# classification dataset\n",
    "dataset = datasets.load_breast_cancer()"
   ]
  },
  {
   "cell_type": "markdown",
   "metadata": {},
   "source": [
    "## 2. Import dataset"
   ]
  },
  {
   "cell_type": "code",
   "execution_count": 5,
   "metadata": {},
   "outputs": [
    {
     "data": {
      "text/html": [
       "<div>\n",
       "<style scoped>\n",
       "    .dataframe tbody tr th:only-of-type {\n",
       "        vertical-align: middle;\n",
       "    }\n",
       "\n",
       "    .dataframe tbody tr th {\n",
       "        vertical-align: top;\n",
       "    }\n",
       "\n",
       "    .dataframe thead th {\n",
       "        text-align: right;\n",
       "    }\n",
       "</style>\n",
       "<table border=\"1\" class=\"dataframe\">\n",
       "  <thead>\n",
       "    <tr style=\"text-align: right;\">\n",
       "      <th></th>\n",
       "      <th>mean radius</th>\n",
       "      <th>mean texture</th>\n",
       "      <th>mean perimeter</th>\n",
       "      <th>mean area</th>\n",
       "      <th>mean smoothness</th>\n",
       "      <th>mean compactness</th>\n",
       "      <th>mean concavity</th>\n",
       "      <th>mean concave points</th>\n",
       "      <th>mean symmetry</th>\n",
       "      <th>mean fractal dimension</th>\n",
       "      <th>...</th>\n",
       "      <th>worst texture</th>\n",
       "      <th>worst perimeter</th>\n",
       "      <th>worst area</th>\n",
       "      <th>worst smoothness</th>\n",
       "      <th>worst compactness</th>\n",
       "      <th>worst concavity</th>\n",
       "      <th>worst concave points</th>\n",
       "      <th>worst symmetry</th>\n",
       "      <th>worst fractal dimension</th>\n",
       "      <th>Target</th>\n",
       "    </tr>\n",
       "  </thead>\n",
       "  <tbody>\n",
       "    <tr>\n",
       "      <th>0</th>\n",
       "      <td>17.99</td>\n",
       "      <td>10.38</td>\n",
       "      <td>122.80</td>\n",
       "      <td>1001.0</td>\n",
       "      <td>0.11840</td>\n",
       "      <td>0.27760</td>\n",
       "      <td>0.3001</td>\n",
       "      <td>0.14710</td>\n",
       "      <td>0.2419</td>\n",
       "      <td>0.07871</td>\n",
       "      <td>...</td>\n",
       "      <td>17.33</td>\n",
       "      <td>184.60</td>\n",
       "      <td>2019.0</td>\n",
       "      <td>0.1622</td>\n",
       "      <td>0.6656</td>\n",
       "      <td>0.7119</td>\n",
       "      <td>0.2654</td>\n",
       "      <td>0.4601</td>\n",
       "      <td>0.11890</td>\n",
       "      <td>0</td>\n",
       "    </tr>\n",
       "    <tr>\n",
       "      <th>1</th>\n",
       "      <td>20.57</td>\n",
       "      <td>17.77</td>\n",
       "      <td>132.90</td>\n",
       "      <td>1326.0</td>\n",
       "      <td>0.08474</td>\n",
       "      <td>0.07864</td>\n",
       "      <td>0.0869</td>\n",
       "      <td>0.07017</td>\n",
       "      <td>0.1812</td>\n",
       "      <td>0.05667</td>\n",
       "      <td>...</td>\n",
       "      <td>23.41</td>\n",
       "      <td>158.80</td>\n",
       "      <td>1956.0</td>\n",
       "      <td>0.1238</td>\n",
       "      <td>0.1866</td>\n",
       "      <td>0.2416</td>\n",
       "      <td>0.1860</td>\n",
       "      <td>0.2750</td>\n",
       "      <td>0.08902</td>\n",
       "      <td>0</td>\n",
       "    </tr>\n",
       "    <tr>\n",
       "      <th>2</th>\n",
       "      <td>19.69</td>\n",
       "      <td>21.25</td>\n",
       "      <td>130.00</td>\n",
       "      <td>1203.0</td>\n",
       "      <td>0.10960</td>\n",
       "      <td>0.15990</td>\n",
       "      <td>0.1974</td>\n",
       "      <td>0.12790</td>\n",
       "      <td>0.2069</td>\n",
       "      <td>0.05999</td>\n",
       "      <td>...</td>\n",
       "      <td>25.53</td>\n",
       "      <td>152.50</td>\n",
       "      <td>1709.0</td>\n",
       "      <td>0.1444</td>\n",
       "      <td>0.4245</td>\n",
       "      <td>0.4504</td>\n",
       "      <td>0.2430</td>\n",
       "      <td>0.3613</td>\n",
       "      <td>0.08758</td>\n",
       "      <td>0</td>\n",
       "    </tr>\n",
       "    <tr>\n",
       "      <th>3</th>\n",
       "      <td>11.42</td>\n",
       "      <td>20.38</td>\n",
       "      <td>77.58</td>\n",
       "      <td>386.1</td>\n",
       "      <td>0.14250</td>\n",
       "      <td>0.28390</td>\n",
       "      <td>0.2414</td>\n",
       "      <td>0.10520</td>\n",
       "      <td>0.2597</td>\n",
       "      <td>0.09744</td>\n",
       "      <td>...</td>\n",
       "      <td>26.50</td>\n",
       "      <td>98.87</td>\n",
       "      <td>567.7</td>\n",
       "      <td>0.2098</td>\n",
       "      <td>0.8663</td>\n",
       "      <td>0.6869</td>\n",
       "      <td>0.2575</td>\n",
       "      <td>0.6638</td>\n",
       "      <td>0.17300</td>\n",
       "      <td>0</td>\n",
       "    </tr>\n",
       "    <tr>\n",
       "      <th>4</th>\n",
       "      <td>20.29</td>\n",
       "      <td>14.34</td>\n",
       "      <td>135.10</td>\n",
       "      <td>1297.0</td>\n",
       "      <td>0.10030</td>\n",
       "      <td>0.13280</td>\n",
       "      <td>0.1980</td>\n",
       "      <td>0.10430</td>\n",
       "      <td>0.1809</td>\n",
       "      <td>0.05883</td>\n",
       "      <td>...</td>\n",
       "      <td>16.67</td>\n",
       "      <td>152.20</td>\n",
       "      <td>1575.0</td>\n",
       "      <td>0.1374</td>\n",
       "      <td>0.2050</td>\n",
       "      <td>0.4000</td>\n",
       "      <td>0.1625</td>\n",
       "      <td>0.2364</td>\n",
       "      <td>0.07678</td>\n",
       "      <td>0</td>\n",
       "    </tr>\n",
       "  </tbody>\n",
       "</table>\n",
       "<p>5 rows × 31 columns</p>\n",
       "</div>"
      ],
      "text/plain": [
       "   mean radius  mean texture  mean perimeter  mean area  mean smoothness  \\\n",
       "0        17.99         10.38          122.80     1001.0          0.11840   \n",
       "1        20.57         17.77          132.90     1326.0          0.08474   \n",
       "2        19.69         21.25          130.00     1203.0          0.10960   \n",
       "3        11.42         20.38           77.58      386.1          0.14250   \n",
       "4        20.29         14.34          135.10     1297.0          0.10030   \n",
       "\n",
       "   mean compactness  mean concavity  mean concave points  mean symmetry  \\\n",
       "0           0.27760          0.3001              0.14710         0.2419   \n",
       "1           0.07864          0.0869              0.07017         0.1812   \n",
       "2           0.15990          0.1974              0.12790         0.2069   \n",
       "3           0.28390          0.2414              0.10520         0.2597   \n",
       "4           0.13280          0.1980              0.10430         0.1809   \n",
       "\n",
       "   mean fractal dimension  ...  worst texture  worst perimeter  worst area  \\\n",
       "0                 0.07871  ...          17.33           184.60      2019.0   \n",
       "1                 0.05667  ...          23.41           158.80      1956.0   \n",
       "2                 0.05999  ...          25.53           152.50      1709.0   \n",
       "3                 0.09744  ...          26.50            98.87       567.7   \n",
       "4                 0.05883  ...          16.67           152.20      1575.0   \n",
       "\n",
       "   worst smoothness  worst compactness  worst concavity  worst concave points  \\\n",
       "0            0.1622             0.6656           0.7119                0.2654   \n",
       "1            0.1238             0.1866           0.2416                0.1860   \n",
       "2            0.1444             0.4245           0.4504                0.2430   \n",
       "3            0.2098             0.8663           0.6869                0.2575   \n",
       "4            0.1374             0.2050           0.4000                0.1625   \n",
       "\n",
       "   worst symmetry  worst fractal dimension  Target  \n",
       "0          0.4601                  0.11890       0  \n",
       "1          0.2750                  0.08902       0  \n",
       "2          0.3613                  0.08758       0  \n",
       "3          0.6638                  0.17300       0  \n",
       "4          0.2364                  0.07678       0  \n",
       "\n",
       "[5 rows x 31 columns]"
      ]
     },
     "execution_count": 5,
     "metadata": {},
     "output_type": "execute_result"
    }
   ],
   "source": [
    "# define which dataset should be used\n",
    "data = dataset.data\n",
    "data_target = dataset.target\n",
    "feature_names = dataset.feature_names\n",
    "\n",
    "data_frame = pd.DataFrame(data, columns = feature_names)\n",
    "data_frame['Target'] = data_target\n",
    "X = data_frame.drop(\"Target\", 1)       # feature matrix\n",
    "y = data_frame['Target'] \n",
    "data_frame.head()\n",
    "\n",
    "#print(data)\n",
    "#print(target_matrix)"
   ]
  },
  {
   "cell_type": "markdown",
   "metadata": {},
   "source": [
    "## 3. Function Definition"
   ]
  },
  {
   "cell_type": "markdown",
   "metadata": {},
   "source": [
    "### 3.1 Calculate a 0-1-vector for a given feature-result-array"
   ]
  },
  {
   "cell_type": "code",
   "execution_count": 6,
   "metadata": {},
   "outputs": [],
   "source": [
    "def calculateVector(res):\n",
    "    res_vector = []\n",
    "    for i in range (len(feature_names)):\n",
    "        if feature_names[i] in res:\n",
    "            res_vector.append(1)\n",
    "        else:\n",
    "            res_vector.append(0)\n",
    "    return res_vector"
   ]
  },
  {
   "cell_type": "markdown",
   "metadata": {},
   "source": [
    "## 4. Bayesian Optimization Algorithm"
   ]
  },
  {
   "cell_type": "markdown",
   "metadata": {},
   "source": [
    "### 4.1 Create feature-subsets (wrapper)"
   ]
  },
  {
   "cell_type": "code",
   "execution_count": 7,
   "metadata": {},
   "outputs": [],
   "source": [
    "#s = feature_names \n",
    "#wrapper = list(combinations(s, k_features))"
   ]
  },
  {
   "cell_type": "markdown",
   "metadata": {},
   "source": [
    "### 4.2  fmfn / BayesianOptimization Package \n",
    "- https://github.com/fmfn/BayesianOptimization"
   ]
  },
  {
   "cell_type": "code",
   "execution_count": 8,
   "metadata": {},
   "outputs": [],
   "source": [
    "#pbounds_old = {'x': (0, len(wrapper)-1)}\n",
    "#def black_box_function_bay_opt_old(x):\n",
    "#    x = round(x)\n",
    "#    filteredX = X[X.columns[X.columns.isin(wrapper[x])]] # use only selected features\n",
    "#    model = LinearRegression().fit(filteredX, y)\n",
    "#    return model.score(filteredX, y) # coefficient of determination\n"
   ]
  },
  {
   "cell_type": "code",
   "execution_count": 9,
   "metadata": {},
   "outputs": [],
   "source": [
    "def black_box_function_bay_opt(**kwargs):\n",
    "    current_features = []\n",
    "    for k, v in kwargs.items():\n",
    "        if bool(round(v)):\n",
    "            current_features.append(k)\n",
    "    filtered_X = X[X.columns[X.columns.isin(current_features)]]\n",
    "    model = LinearRegression().fit(filtered_X, y)\n",
    "    return model.score(filtered_X, y) # coefficient of determination"
   ]
  },
  {
   "cell_type": "code",
   "execution_count": 10,
   "metadata": {},
   "outputs": [],
   "source": [
    "pbounds = {}\n",
    "for feature_name in feature_names:\n",
    "    pbounds[feature_name] = (0,1)"
   ]
  },
  {
   "cell_type": "code",
   "execution_count": 11,
   "metadata": {},
   "outputs": [],
   "source": [
    "optimizer_fmfn = BayesianOptimization(\n",
    "    f=black_box_function_bay_opt,\n",
    "    pbounds=pbounds,\n",
    "    verbose=1, # verbose = 1 prints only when a maximum is observed, verbose = 0 is silent\n",
    "    random_state=123,\n",
    ")"
   ]
  },
  {
   "cell_type": "code",
   "execution_count": 12,
   "metadata": {},
   "outputs": [
    {
     "name": "stdout",
     "output_type": "stream",
     "text": [
      "|   iter    |  target   | area e... | compac... | concav... | concav... | fracta... | mean area | mean c... | mean c... | mean c... | mean f... | mean p... | mean r... | mean s... | mean s... | mean t... | perime... | radius... | smooth... | symmet... | textur... | worst ... | worst ... | worst ... | worst ... | worst ... | worst ... | worst ... | worst ... | worst ... | worst ... |\n",
      "-------------------------------------------------------------------------------------------------------------------------------------------------------------------------------------------------------------------------------------------------------------------------------------------------------------------------------------------------------------------------------------------------\n",
      "| \u001b[95m 4       \u001b[0m | \u001b[95m 0.7485  \u001b[0m | \u001b[95m 0.705   \u001b[0m | \u001b[95m 0.9954  \u001b[0m | \u001b[95m 0.3559  \u001b[0m | \u001b[95m 0.7625  \u001b[0m | \u001b[95m 0.5932  \u001b[0m | \u001b[95m 0.6917  \u001b[0m | \u001b[95m 0.1511  \u001b[0m | \u001b[95m 0.3989  \u001b[0m | \u001b[95m 0.2409  \u001b[0m | \u001b[95m 0.3435  \u001b[0m | \u001b[95m 0.5131  \u001b[0m | \u001b[95m 0.6666  \u001b[0m | \u001b[95m 0.1059  \u001b[0m | \u001b[95m 0.1309  \u001b[0m | \u001b[95m 0.322   \u001b[0m | \u001b[95m 0.6616  \u001b[0m | \u001b[95m 0.8465  \u001b[0m | \u001b[95m 0.5533  \u001b[0m | \u001b[95m 0.8545  \u001b[0m | \u001b[95m 0.3848  \u001b[0m | \u001b[95m 0.3168  \u001b[0m | \u001b[95m 0.3543  \u001b[0m | \u001b[95m 0.1711  \u001b[0m | \u001b[95m 0.8291  \u001b[0m | \u001b[95m 0.3387  \u001b[0m | \u001b[95m 0.5524  \u001b[0m | \u001b[95m 0.5786  \u001b[0m | \u001b[95m 0.5215  \u001b[0m | \u001b[95m 0.002688\u001b[0m | \u001b[95m 0.9883  \u001b[0m |\n",
      "| \u001b[95m 6       \u001b[0m | \u001b[95m 0.7578  \u001b[0m | \u001b[95m 0.8756  \u001b[0m | \u001b[95m 0.2451  \u001b[0m | \u001b[95m 0.7564  \u001b[0m | \u001b[95m 0.8691  \u001b[0m | \u001b[95m 0.2285  \u001b[0m | \u001b[95m 0.1347  \u001b[0m | \u001b[95m 0.1275  \u001b[0m | \u001b[95m 0.2934  \u001b[0m | \u001b[95m 0.7887  \u001b[0m | \u001b[95m 0.3475  \u001b[0m | \u001b[95m 0.8402  \u001b[0m | \u001b[95m 0.6045  \u001b[0m | \u001b[95m 0.05457 \u001b[0m | \u001b[95m 0.3711  \u001b[0m | \u001b[95m 0.1578  \u001b[0m | \u001b[95m 0.9139  \u001b[0m | \u001b[95m 0.1522  \u001b[0m | \u001b[95m 0.3667  \u001b[0m | \u001b[95m 0.2796  \u001b[0m | \u001b[95m 0.9915  \u001b[0m | \u001b[95m 0.9777  \u001b[0m | \u001b[95m 0.7054  \u001b[0m | \u001b[95m 0.3173  \u001b[0m | \u001b[95m 0.9334  \u001b[0m | \u001b[95m 0.4501  \u001b[0m | \u001b[95m 0.1518  \u001b[0m | \u001b[95m 0.916   \u001b[0m | \u001b[95m 0.8981  \u001b[0m | \u001b[95m 0.8411  \u001b[0m | \u001b[95m 0.9058  \u001b[0m |\n",
      "=================================================================================================================================================================================================================================================================================================================================================================================================\n",
      "0.7577776401159324\n"
     ]
    },
    {
     "data": {
      "text/plain": [
       "('area error',\n",
       " 'concave points error',\n",
       " 'concavity error',\n",
       " 'mean concavity',\n",
       " 'mean perimeter',\n",
       " 'mean radius',\n",
       " 'perimeter error',\n",
       " 'texture error',\n",
       " 'worst area',\n",
       " 'worst compactness',\n",
       " 'worst concavity',\n",
       " 'worst radius',\n",
       " 'worst smoothness',\n",
       " 'worst symmetry',\n",
       " 'worst texture')"
      ]
     },
     "execution_count": 12,
     "metadata": {},
     "output_type": "execute_result"
    }
   ],
   "source": [
    "optimizer_fmfn.maximize(\n",
    "    init_points=5,\n",
    "    n_iter=20,\n",
    "    acq = 'poi',\n",
    ")\n",
    "\n",
    "score_fmfn = optimizer_fmfn.max[\"target\"]\n",
    "res_fmfn_list = []\n",
    "for k, v in optimizer_fmfn.max[\"params\"].items():\n",
    "    if bool(round(v)):\n",
    "        res_fmfn_list.append(k)\n",
    "\n",
    "res_fmfn = tuple(sorted(res_fmfn_list))\n",
    "k_fmfn = len(res_fmfn)\n",
    "res_vector_fmfn = calculateVector(res_fmfn)\n",
    "print(score_fmfn)\n",
    "res_fmfn"
   ]
  },
  {
   "cell_type": "code",
   "execution_count": 13,
   "metadata": {},
   "outputs": [
    {
     "data": {
      "image/png": "[encoded data removed]",
      "text/plain": [
       "<Figure size 432x288 with 1 Axes>"
      ]
     },
     "metadata": {
      "needs_background": "light"
     },
     "output_type": "display_data"
    }
   ],
   "source": [
    "plot_x = []\n",
    "plot_y = []\n",
    "for element in optimizer_fmfn.res:\n",
    "    plot_y.append(element['target'])\n",
    "    plot_x.append(element['params']['mean radius'])\n",
    "\n",
    "plt.plot(plot_x, plot_y, 'ro')\n",
    "plt.show()"
   ]
  },
  {
   "cell_type": "markdown",
   "metadata": {},
   "source": [
    "### 4.3 scikit-optimize (skopt)\n",
    "- https://scikit-optimize.github.io/stable/auto_examples/bayesian-optimization.html"
   ]
  },
  {
   "cell_type": "code",
   "execution_count": 14,
   "metadata": {},
   "outputs": [],
   "source": [
    "#def black_box_function_scikit_optimize_old(x):\n",
    "#    x = x[0]\n",
    "#    \n",
    "#    filteredX = X[X.columns[X.columns.isin(wrapper[x])]] # use only selected features\n",
    "#    model = LinearRegression().fit(filteredX, y)\n",
    "#    return 1-model.score(filteredX, y) # coefficient of determination\n"
   ]
  },
  {
   "cell_type": "code",
   "execution_count": 15,
   "metadata": {},
   "outputs": [],
   "source": [
    "space  = []\n",
    "for feature_name in feature_names:\n",
    "    space.append(Integer(0, 1, name=feature_name))"
   ]
  },
  {
   "cell_type": "code",
   "execution_count": 16,
   "metadata": {},
   "outputs": [],
   "source": [
    "def black_box_function_scikit_optimize(*args):\n",
    "    current_features = list(compress(feature_names, args[0]))\n",
    "    #print(current_features)\n",
    "    filtered_X = X[X.columns[X.columns.isin(current_features)]]\n",
    "    model = LinearRegression().fit(filtered_X, y)\n",
    "    score = 1-model.score(filtered_X, y) # coefficient of determination\n",
    "    #print(score)\n",
    "    return score"
   ]
  },
  {
   "cell_type": "code",
   "execution_count": 17,
   "metadata": {},
   "outputs": [
    {
     "name": "stdout",
     "output_type": "stream",
     "text": [
      "0.7668595623047086\n",
      "('area error', 'concavity error', 'mean area', 'mean compactness', 'mean concave points', 'mean concavity', 'mean radius', 'mean texture', 'perimeter error', 'radius error', 'smoothness error', 'worst compactness', 'worst concave points', 'worst concavity', 'worst fractal dimension', 'worst perimeter', 'worst smoothness', 'worst symmetry')\n"
     ]
    }
   ],
   "source": [
    "optimizer_skopt = gp_minimize(black_box_function_scikit_optimize, # the function to minimize\n",
    "                  space,      # the bounds on each dimension of x\n",
    "                  acq_func=\"PI\",      # the acquisition function\n",
    "                  n_calls=20,         # the number of evaluations of f\n",
    "                  n_random_starts=5,  # the number of random initialization points\n",
    "                  #noise=0.1**2,       # the noise level (optional)\n",
    "                  random_state=123,  # the random seed\n",
    "                  verbose=False)  \n",
    "\n",
    "score_skopt = 1-optimizer_skopt.fun\n",
    "res_skopt = tuple(sorted(compress(feature_names, optimizer_skopt.x)))\n",
    "res_vector_skopt = calculateVector(res_skopt)\n",
    "k_skopt = len(res_skopt)\n",
    "print(score_skopt)\n",
    "print(res_skopt)"
   ]
  },
  {
   "cell_type": "code",
   "execution_count": 18,
   "metadata": {},
   "outputs": [
    {
     "data": {
      "image/png": "[encoded data removed]",
      "text/plain": [
       "<Figure size 432x288 with 1 Axes>"
      ]
     },
     "metadata": {
      "needs_background": "light"
     },
     "output_type": "display_data"
    }
   ],
   "source": [
    "# Distribution of one specific feature\n",
    "variable_index = 0\n",
    "plot_x = [item[variable_index] for item in optimizer_skopt.x_iters]\n",
    "plot_y = [1-i for i in optimizer_skopt.func_vals]\n",
    "plt.plot(plot_x , plot_y, 'ro')\n",
    "plt.show()"
   ]
  },
  {
   "cell_type": "markdown",
   "metadata": {},
   "source": [
    "### 4.4 Bayesian Optimize k_feature\n"
   ]
  },
  {
   "cell_type": "code",
   "execution_count": 19,
   "metadata": {},
   "outputs": [
    {
     "data": {
      "text/plain": [
       "15"
      ]
     },
     "execution_count": 19,
     "metadata": {},
     "output_type": "execute_result"
    }
   ],
   "source": [
    "k_fmfn"
   ]
  },
  {
   "cell_type": "code",
   "execution_count": 20,
   "metadata": {},
   "outputs": [
    {
     "data": {
      "text/plain": [
       "18"
      ]
     },
     "execution_count": 20,
     "metadata": {},
     "output_type": "execute_result"
    }
   ],
   "source": [
    "k_skopt"
   ]
  },
  {
   "cell_type": "code",
   "execution_count": 21,
   "metadata": {},
   "outputs": [],
   "source": [
    "k_features = k_skopt"
   ]
  },
  {
   "cell_type": "markdown",
   "metadata": {},
   "source": [
    "## 3. Classical Feature Selection Algorithms"
   ]
  },
  {
   "cell_type": "markdown",
   "metadata": {},
   "source": [
    "### 3.1 Sequential Forward Selection (mlxtend SFS)\n",
    "- https://github.com/rasbt/mlxtend"
   ]
  },
  {
   "cell_type": "code",
   "execution_count": 22,
   "metadata": {},
   "outputs": [],
   "source": [
    "forward_selection = SFS(LinearRegression(),\n",
    "          k_features=k_features,\n",
    "          forward=True,\n",
    "          floating=False,\n",
    "          scoring = 'r2',\n",
    "          cv = 0)"
   ]
  },
  {
   "cell_type": "code",
   "execution_count": 23,
   "metadata": {},
   "outputs": [
    {
     "data": {
      "text/plain": [
       "0.773123403101917"
      ]
     },
     "execution_count": 23,
     "metadata": {},
     "output_type": "execute_result"
    }
   ],
   "source": [
    "forward_selection.fit(X, y)\n",
    "res_sfs = tuple(sorted(forward_selection.k_feature_names_))\n",
    "res_vector_sfs = calculateVector(res_sfs)\n",
    "score_sfs = forward_selection.k_score_\n",
    "\n",
    "res_sfs\n",
    "score_sfs"
   ]
  },
  {
   "cell_type": "markdown",
   "metadata": {},
   "source": [
    "### 3.2 Recursive Feature Elimination (sklearn RFE)\n",
    "- https://scikit-learn.org/stable/modules/generated/sklearn.feature_selection.RFE.html"
   ]
  },
  {
   "cell_type": "code",
   "execution_count": 24,
   "metadata": {},
   "outputs": [],
   "source": [
    "rfe_selection = RFE(LinearRegression(),\n",
    "               n_features_to_select=k_features,\n",
    "               step=1)"
   ]
  },
  {
   "cell_type": "code",
   "execution_count": 25,
   "metadata": {},
   "outputs": [
    {
     "data": {
      "text/plain": [
       "0.7284294662027131"
      ]
     },
     "execution_count": 25,
     "metadata": {},
     "output_type": "execute_result"
    }
   ],
   "source": [
    "rfe_selection.fit(X, y)\n",
    "rfe_support = rfe_selection.support_\n",
    "\n",
    "# convert to k-feature-names tuple\n",
    "res_rfe_temp = []\n",
    "for i in range(0,len(feature_names)):\n",
    "    if rfe_support[i]:\n",
    "        res_rfe_temp.append(feature_names[i])\n",
    "        \n",
    "        \n",
    "res_rfe = tuple(sorted(res_rfe_temp)) # convert to tuple\n",
    "res_vector_rfe = calculateVector(res_rfe)\n",
    "score_rfe = rfe_selection.score(X, y)\n",
    "res_rfe\n",
    "score_rfe"
   ]
  },
  {
   "cell_type": "markdown",
   "metadata": {},
   "source": [
    "## 5. Results"
   ]
  },
  {
   "cell_type": "code",
   "execution_count": 26,
   "metadata": {},
   "outputs": [
    {
     "data": {
      "text/plain": [
       "('area error',\n",
       " 'compactness error',\n",
       " 'concave points error',\n",
       " 'concavity error',\n",
       " 'mean compactness',\n",
       " 'mean concave points',\n",
       " 'mean concavity',\n",
       " 'mean radius',\n",
       " 'mean texture',\n",
       " 'radius error',\n",
       " 'smoothness error',\n",
       " 'worst area',\n",
       " 'worst concave points',\n",
       " 'worst concavity',\n",
       " 'worst fractal dimension',\n",
       " 'worst radius',\n",
       " 'worst symmetry',\n",
       " 'worst texture')"
      ]
     },
     "execution_count": 26,
     "metadata": {},
     "output_type": "execute_result"
    }
   ],
   "source": [
    "# forward selection algorithm\n",
    "res_sfs"
   ]
  },
  {
   "cell_type": "code",
   "execution_count": 27,
   "metadata": {},
   "outputs": [
    {
     "data": {
      "text/plain": [
       "('compactness error',\n",
       " 'concave points error',\n",
       " 'concavity error',\n",
       " 'mean compactness',\n",
       " 'mean concave points',\n",
       " 'mean concavity',\n",
       " 'mean fractal dimension',\n",
       " 'mean smoothness',\n",
       " 'mean symmetry',\n",
       " 'perimeter error',\n",
       " 'radius error',\n",
       " 'smoothness error',\n",
       " 'symmetry error',\n",
       " 'worst concave points',\n",
       " 'worst concavity',\n",
       " 'worst fractal dimension',\n",
       " 'worst smoothness',\n",
       " 'worst symmetry')"
      ]
     },
     "execution_count": 27,
     "metadata": {},
     "output_type": "execute_result"
    }
   ],
   "source": [
    "# recursive feature elimination\n",
    "res_rfe"
   ]
  },
  {
   "cell_type": "code",
   "execution_count": 28,
   "metadata": {},
   "outputs": [
    {
     "data": {
      "text/plain": [
       "('area error',\n",
       " 'concave points error',\n",
       " 'concavity error',\n",
       " 'mean concavity',\n",
       " 'mean perimeter',\n",
       " 'mean radius',\n",
       " 'perimeter error',\n",
       " 'texture error',\n",
       " 'worst area',\n",
       " 'worst compactness',\n",
       " 'worst concavity',\n",
       " 'worst radius',\n",
       " 'worst smoothness',\n",
       " 'worst symmetry',\n",
       " 'worst texture')"
      ]
     },
     "execution_count": 28,
     "metadata": {},
     "output_type": "execute_result"
    }
   ],
   "source": [
    "# fmfn bayesian optimization\n",
    "res_fmfn"
   ]
  },
  {
   "cell_type": "code",
   "execution_count": 29,
   "metadata": {},
   "outputs": [
    {
     "data": {
      "text/plain": [
       "('area error',\n",
       " 'concavity error',\n",
       " 'mean area',\n",
       " 'mean compactness',\n",
       " 'mean concave points',\n",
       " 'mean concavity',\n",
       " 'mean radius',\n",
       " 'mean texture',\n",
       " 'perimeter error',\n",
       " 'radius error',\n",
       " 'smoothness error',\n",
       " 'worst compactness',\n",
       " 'worst concave points',\n",
       " 'worst concavity',\n",
       " 'worst fractal dimension',\n",
       " 'worst perimeter',\n",
       " 'worst smoothness',\n",
       " 'worst symmetry')"
      ]
     },
     "execution_count": 29,
     "metadata": {},
     "output_type": "execute_result"
    }
   ],
   "source": [
    "# skopt bayesian optimization\n",
    "res_skopt"
   ]
  },
  {
   "cell_type": "code",
   "execution_count": 30,
   "metadata": {},
   "outputs": [
    {
     "data": {
      "image/png": "[encoded data removed]",
      "text/plain": [
       "<Figure size 432x288 with 1 Axes>"
      ]
     },
     "metadata": {
      "needs_background": "light"
     },
     "output_type": "display_data"
    }
   ],
   "source": [
    "# bar chart of accuracy\n",
    "\n",
    "objects = ('Bay. Opt. (fmfn)', 'Bay. Opt. (skopt)', 'SFS', 'RFE')\n",
    "y_pos = np.arange(len(objects))\n",
    "performance = [score_fmfn, score_skopt, score_sfs, score_rfe]\n",
    "\n",
    "plt.barh(y_pos, performance, align='center', alpha=0.5)\n",
    "plt.yticks(y_pos, objects)\n",
    "plt.xlabel('Score')\n",
    "\n",
    "plt.savefig('score_comparison.png', dpi=300, bbox_inches='tight')\n",
    "plt.show()\n",
    "\n"
   ]
  },
  {
   "cell_type": "code",
   "execution_count": 56,
   "metadata": {
    "scrolled": true
   },
   "outputs": [
    {
     "data": {
      "image/png": "[encoded data removed]",
      "text/plain": [
       "<Figure size 432x288 with 1 Axes>"
      ]
     },
     "metadata": {
      "needs_background": "light"
     },
     "output_type": "display_data"
    }
   ],
   "source": [
    "# calculate Jaccard-Coefficient\n",
    "res = [res_rfe, res_sfs, res_skopt, res_fmfn]\n",
    "similarity_matrix = [ [0]*len(res) for i in range(len(res))] # init two-dimensional array\n",
    "\n",
    "for i in range (len(similarity_matrix)):\n",
    "    for j in range (len(similarity_matrix[i])):\n",
    "        x = len(set(res[i]).intersection(set(res[j]))) / len(set(res[i]).union(set(res[j])))\n",
    "        similarity_matrix[i][j] = x\n",
    "\n",
    "# convert to pandas dataframe\n",
    "index = ['RFE', 'SFS', 'Bay. Opt. (skopt)', 'Bay. Opt. (fmfn)']\n",
    "similarity_dataframe = pd.DataFrame(similarity_matrix, index=index, columns=index)\n",
    "\n",
    "# display only lower diagonal values\n",
    "mask = np.zeros_like(similarity_dataframe, dtype=np.bool)\n",
    "mask[np.triu_indices_from(mask)] = True\n",
    "mask[np.diag_indices_from(mask)] = False\n",
    "\n",
    "# display heatmap for jaccard-coefficient\n",
    "svm = sns.heatmap(data=similarity_dataframe, mask=mask, vmin=-1, vmax=1, cmap='RdYlGn', annot=True, square=True, cbar=False)\n",
    "figure = svm.get_figure()\n",
    "figure.savefig('jaccard-coefficient-heatmap.png', dpi=300, bbox_inches='tight')"
   ]
  },
  {
   "cell_type": "code",
   "execution_count": 58,
   "metadata": {},
   "outputs": [
    {
     "data": {
      "image/png": "[encoded data removed]",
      "text/plain": [
       "<Figure size 432x288 with 1 Axes>"
      ]
     },
     "metadata": {
      "needs_background": "light"
     },
     "output_type": "display_data"
    }
   ],
   "source": [
    "# correlation matrix\n",
    "vector_dataframe = pd.DataFrame({'RFE': res_vector_rfe, 'SFS': res_vector_sfs, 'Bay. Opt. (skopt)': res_vector_skopt, 'Bay. Opt. (fmfn)': res_vector_fmfn})\n",
    "similarity_vector_dataframe = vector_dataframe.corr()\n",
    "\n",
    "# display only lower diagonal values\n",
    "mask = np.zeros_like(similarity_vector_dataframe, dtype=np.bool)\n",
    "mask[np.triu_indices_from(mask)] = True\n",
    "mask[np.diag_indices_from(mask)] = False\n",
    "\n",
    "svm = sns.heatmap(data=similarity_vector_dataframe, mask=mask, vmin=-1, vmax=1, cmap='RdYlGn', annot=True, square=True, cbar=False)\n",
    "figure = svm.get_figure()\n",
    "figure.savefig('correlation-heatmap.png', dpi=300, bbox_inches='tight')\n"
   ]
  },
  {
   "cell_type": "code",
   "execution_count": null,
   "metadata": {},
   "outputs": [],
   "source": []
  }
 ],
 "metadata": {
  "kernelspec": {
   "display_name": "Python 3",
   "language": "python",
   "name": "python3"
  },
  "language_info": {
   "codemirror_mode": {
    "name": "ipython",
    "version": 3
   },
   "file_extension": ".py",
   "mimetype": "text/x-python",
   "name": "python",
   "nbconvert_exporter": "python",
   "pygments_lexer": "ipython3",
   "version": "3.6.9"
  }
 },
 "nbformat": 4,
 "nbformat_minor": 4
}
